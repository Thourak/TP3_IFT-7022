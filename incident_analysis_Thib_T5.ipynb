{
 "cells": [
  {
   "cell_type": "markdown",
   "id": "c65179fa",
   "metadata": {},
   "source": [
    "# *Notebook* à utiliser pour faire le travail pratique # 3 sur l'analyse d'incidents.\n",
    "\n",
    "\n",
    "\n"
   ]
  },
  {
   "cell_type": "markdown",
   "metadata": {},
   "source": [
    "## Imports"
   ]
  },
  {
   "cell_type": "code",
   "execution_count": null,
   "metadata": {},
   "outputs": [],
   "source": [
    "# Importation des bibliothèques nécessaires\n",
    "from transformers import T5ForConditionalGeneration, T5Tokenizer, pipeline\n",
    "import torch\n",
    "import json\n",
    "from torch.utils.data import Dataset\n",
    "from sklearn.model_selection import train_test_split\n",
    "from torch.utils.data import DataLoader\n",
    "from torch.optim import AdamW\n",
    "from tqdm import tqdm\n",
    "from sklearn.metrics import accuracy_score\n",
    "from collections import Counter\n",
    "import string\n",
    "from nltk.translate.bleu_score import sentence_bleu\n",
    "from rouge import Rouge\n",
    "import re\n",
    "from bleurt import score\n",
    "import pandas as pd\n",
    "import time\n",
    "from statistics import mean"
   ]
  },
  {
   "cell_type": "markdown",
   "metadata": {},
   "source": [
    "## Chargements Modèles & Tokenizers & Données"
   ]
  },
  {
   "cell_type": "code",
   "execution_count": null,
   "id": "2233dd04",
   "metadata": {},
   "outputs": [],
   "source": [
    "# Initialisation du modèle et du tokenizer pour t5-base\n",
    "model_t5_name = \"t5-Large\"\n",
    "model_t5 = T5ForConditionalGeneration.from_pretrained(model_t5_name)\n",
    "tokenizer = T5Tokenizer.from_pretrained(model_t5_name)"
   ]
  },
  {
   "cell_type": "code",
   "execution_count": null,
   "id": "51fcb7fb",
   "metadata": {},
   "outputs": [],
   "source": [
    "# Vérification de la disponibilité du GPU\n",
    "device = 'cuda' if torch.cuda.is_available() else 'cpu'\n",
    "model_t5.to(device)"
   ]
  },
  {
   "cell_type": "code",
   "execution_count": null,
   "id": "a6cd5e41",
   "metadata": {},
   "outputs": [],
   "source": [
    "# Préparation questions\n",
    "labels=['text', 'arguments.EVENT', 'arguments.ACTIVITY', 'arguments.WHO','arguments.WHERE', 'arguments.WHEN', 'arguments.CAUSE','arguments.EQUIPMENT', 'arguments.INJURY', 'arguments.INJURED','arguments.BODY-PARTS', 'arguments.DEATH', 'arguments.SUBSTANCE']"
   ]
  },
  {
   "cell_type": "markdown",
   "metadata": {},
   "source": [
    "# Chargement des données"
   ]
  },
  {
   "cell_type": "code",
   "execution_count": null,
   "id": "fcad4d34",
   "metadata": {},
   "outputs": [],
   "source": [
    "def load_incidents(filename):\n",
    "    with open(filename, 'r') as fp:\n",
    "        incident_list = json.load(fp)\n",
    "        df = pd.json_normalize(incident_list)\n",
    "    return df\n",
    "\n",
    "file_path = 'data/dev_examples.json'\n",
    "data=load_incidents(file_path)\n",
    "print(\"Nombre d'incidents:\", len(data))\n",
    "print(\"\\nExtrait :\\n\", data.iloc[-1])"
   ]
  },
  {
   "cell_type": "markdown",
   "metadata": {},
   "source": [
    "# Fonctions Annexes"
   ]
  },
  {
   "cell_type": "code",
   "execution_count": null,
   "metadata": {},
   "outputs": [],
   "source": [
    "def normalize_answer(s):\n",
    "    \"\"\"Mettre en minuscule et retirer la ponctuation, des déterminants and les espaces.\"\"\"\n",
    "    def remove_articles(text):\n",
    "        return re.sub(r'\\b(a|an|the)\\b', ' ', text)\n",
    "\n",
    "    def white_space_fix(text):\n",
    "        return ' '.join(text.split())\n",
    "\n",
    "    def remove_punc(text):\n",
    "        exclude = set(string.punctuation)\n",
    "        return ''.join(ch for ch in text if ch not in exclude)\n",
    "\n",
    "    def lower(text):\n",
    "        return text.lower()\n",
    "\n",
    "    return white_space_fix(remove_articles(remove_punc(lower(s))))"
   ]
  },
  {
   "cell_type": "code",
   "execution_count": null,
   "metadata": {},
   "outputs": [],
   "source": [
    "def f1_score(prediction, ground_truth):\n",
    "    \"\"\"Normalise les 2 textes, trouve ce qu'il y a en comment et estime précision, rappel et F1.\"\"\"\n",
    "    prediction_tokens = normalize_answer(prediction).split()\n",
    "    ground_truth_tokens = normalize_answer(ground_truth).split()\n",
    "    common = Counter(prediction_tokens) & Counter(ground_truth_tokens)\n",
    "    num_same = sum(common.values())\n",
    "    if len(ground_truth_tokens) == 0 or len(prediction_tokens) == 0:\n",
    "        return int(ground_truth_tokens == prediction_tokens)\n",
    "    if num_same == 0:\n",
    "        return 0\n",
    "    precision = 1.0 * num_same / len(prediction_tokens)\n",
    "    recall = 1.0 * num_same / len(ground_truth_tokens)\n",
    "    f1 = (2 * precision * recall) / (precision + recall)\n",
    "    return f1"
   ]
  },
  {
   "cell_type": "code",
   "execution_count": null,
   "metadata": {},
   "outputs": [],
   "source": [
    "def exact_match_score(prediction, ground_truth): \n",
    "    \"\"\"Vérifie si les 2 textes sont quasi-identiques.\"\"\"\n",
    "    return (normalize_answer(prediction) == normalize_answer(ground_truth))"
   ]
  },
  {
   "cell_type": "code",
   "execution_count": null,
   "metadata": {},
   "outputs": [],
   "source": [
    "def metric_max_over_ground_truths(metric_fn, prediction, ground_truths):\n",
    "    \"\"\"La fonction principale. Important de noter que ground_truths est une liste \n",
    "       parce qu'il peut y avoir plusieurs réponses possibles.\"\"\"\n",
    "    scores_for_ground_truths = []\n",
    "    if ground_truths == \"\":\n",
    "        return 1 if prediction == \"\" else 0\n",
    "    else:\n",
    "        for ground_truth in ground_truths:\n",
    "            score = metric_fn(prediction, ground_truth)\n",
    "            scores_for_ground_truths.append(score)\n",
    "    return max(scores_for_ground_truths)"
   ]
  },
  {
   "cell_type": "code",
   "execution_count": null,
   "metadata": {},
   "outputs": [],
   "source": [
    "def evaluate_model(model, val_loader, device):\n",
    "    model.eval()\n",
    "    total_f1, total_exact_match, total_count = 0, 0, 0\n",
    "\n",
    "    with torch.no_grad():\n",
    "        for batch in val_loader:\n",
    "            input_ids = batch['input_ids'].to(device)\n",
    "            attention_mask = batch['attention_mask'].to(device)\n",
    "            labels = batch['labels'].to(device)\n",
    "\n",
    "            # Création des decoder_input_ids pour T5\n",
    "            decoder_input_ids = torch.full_like(labels, tokenizer.pad_token_id)\n",
    "            decoder_input_ids[:, 0] = tokenizer.eos_token_id\n",
    "\n",
    "            # Appel du modèle avec decoder_input_ids\n",
    "            outputs = model(input_ids=input_ids, attention_mask=attention_mask, decoder_input_ids=decoder_input_ids)\n",
    "            logits = outputs.logits\n",
    "            preds = torch.argmax(logits, dim=-1)\n",
    "\n",
    "            for pred, label in zip(preds, labels):\n",
    "                pred_text = tokenizer.decode(pred, skip_special_tokens=True)\n",
    "                label_text = tokenizer.decode(label, skip_special_tokens=True)\n",
    "                total_f1 += metric_max_over_ground_truths(f1_score, pred_text, [label_text])\n",
    "                total_exact_match += metric_max_over_ground_truths(exact_match_score, pred_text, [label_text])\n",
    "                total_count += 1\n",
    "\n",
    "    return total_f1 / total_count, total_exact_match / total_count"
   ]
  },
  {
   "cell_type": "code",
   "execution_count": null,
   "id": "84755235",
   "metadata": {},
   "outputs": [],
   "source": [
    "def make_predictions(model, tokenizer, test_df, questions):\n",
    "    model.eval()\n",
    "    pred_df = pd.DataFrame(columns=['text'] + questions)\n",
    "\n",
    "    pred_df['text'] = test_df['text'].values\n",
    "    for index, row in test_df.iterrows():\n",
    "        context = row['text']\n",
    "        for question in questions:\n",
    "            input_text = f\"question: {question} context: {context}\"\n",
    "            input_ids = tokenizer.encode(input_text, return_tensors=\"pt\").to(device)\n",
    "            outputs = model.generate(input_ids)\n",
    "            pred_answer = tokenizer.decode(outputs[0], skip_special_tokens=True)\n",
    "            pred_df.loc[index, question] = pred_answer\n",
    "\n",
    "    return pred_df"
   ]
  },
  {
   "cell_type": "markdown",
   "metadata": {},
   "source": [
    "# Évaluation"
   ]
  },
  {
   "cell_type": "code",
   "execution_count": null,
   "id": "d1a19d4f",
   "metadata": {},
   "outputs": [],
   "source": [
    "def evaluate_predictions(df_predictions, df_truths):\n",
    "    f1_l = []\n",
    "    ex_l = []\n",
    "    for index_row, row in df_truths.iterrows():\n",
    "        for (index_col, colname) in enumerate(df_truths):\n",
    "            colsNonPred = ['text', 'f1', 'ex']\n",
    "            if colname not in colsNonPred:\n",
    "                # Passer chaque paire de prédictions\n",
    "                f1 = metric_max_over_ground_truths(f1_score, df_predictions[colname].iloc[index_row], df_truths[colname].iloc[index_row])\n",
    "                f1_l.append(f1)\n",
    "                ex = metric_max_over_ground_truths(exact_match_score, df_predictions[colname].iloc[index_row], df_truths[colname].iloc[index_row])\n",
    "                ex_l.append(ex)\n",
    "\n",
    "    # Prendre la moyenne pour chaque métrique\n",
    "    avg_f1 = mean(f1_l)\n",
    "    avg_exact_match = mean(ex_l)\n",
    "\n",
    "    # Évaluation avec BLEU, ROUGE et BLEURT\n",
    "    references = df_truths['text'].tolist()\n",
    "    candidates = df_predictions['text'].tolist()\n",
    "\n",
    "    # BLEU\n",
    "    bleu_score = sentence_bleu([references], candidates)\n",
    "\n",
    "    # ROUGE\n",
    "    rouge = Rouge()\n",
    "    rouge_score = rouge.get_scores(candidates, references, avg=True)\n",
    "\n",
    "    return avg_f1, avg_exact_match, bleu_score, rouge_score, bleurt_score"
   ]
  },
  {
   "cell_type": "code",
   "execution_count": null,
   "id": "5447b9a8",
   "metadata": {},
   "outputs": [],
   "source": [
    "questions = [\n",
    "    \"What was the unexpected event described in the report?\", # arguments.EVENT\n",
    "    \"What activity was being performed during the incident?\", # arguments.ACTIVITY\n",
    "    \"Who was involved in the incident?\", # arguments.WHO\n",
    "    \"Where did the incident occur?\", # arguments.WHERE\n",
    "    \"When did the incident take place?\", # arguments.WHEN\n",
    "    \"What was the cause of the incident?\", # arguments.CAUSE\n",
    "    \"What equipment was involved in the incident?\", # arguments.EQUIPMENT\n",
    "    \"What type of injury occurred?\", # arguments.INJURY\n",
    "    \"Who was injured in the incident?\", # arguments.INJURED\n",
    "    \"Which body parts were affected?\", # arguments.BODY-PARTS\n",
    "    \"Was there any fatality reported?\", # arguments.DEATH\n",
    "    \"Was there any hazardous substance involved?\" # arguments.SUBSTANCE\n",
    "]"
   ]
  },
  {
   "cell_type": "code",
   "execution_count": null,
   "id": "5a78e5fd",
   "metadata": {},
   "outputs": [],
   "source": [
    "# Utilisation de la fonction make_predictions et des fonctions d'évaluation\n",
    "df_predictions = make_predictions(model_t5, tokenizer, data, questions)\n",
    "evaluate_predictions(df_predictions, data)"
   ]
  }
 ],
 "metadata": {
  "kernelspec": {
   "display_name": "Python 3 (ipykernel)",
   "language": "python",
   "name": "python3"
  },
  "language_info": {
   "codemirror_mode": {
    "name": "ipython",
    "version": 3
   },
   "file_extension": ".py",
   "mimetype": "text/x-python",
   "name": "python",
   "nbconvert_exporter": "python",
   "pygments_lexer": "ipython3",
   "version": "3.10.11"
  }
 },
 "nbformat": 4,
 "nbformat_minor": 5
}
