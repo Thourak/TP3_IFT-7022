{
 "cells": [
  {
   "cell_type": "markdown",
   "id": "c65179fa",
   "metadata": {},
   "source": [
    "# *Notebook* à utiliser pour faire le travail pratique # 3 sur l'analyse d'incidents.\n",
    "\n",
    "\n",
    "\n"
   ]
  },
  {
   "cell_type": "markdown",
   "metadata": {},
   "source": [
    "## Imports"
   ]
  },
  {
   "cell_type": "code",
   "execution_count": null,
   "metadata": {},
   "outputs": [],
   "source": [
    "# Importation des bibliothèques nécessaires\n",
    "from transformers import T5ForConditionalGeneration, T5Tokenizer\n",
    "import torch\n",
    "import json\n",
    "from torch.utils.data import Dataset\n",
    "from sklearn.model_selection import train_test_split\n",
    "from torch.utils.data import DataLoader\n",
    "from torch.optim import AdamW\n",
    "from tqdm import tqdm\n",
    "from sklearn.metrics import accuracy_score\n",
    "from collections import Counter\n",
    "import string\n",
    "from nltk.translate.bleu_score import sentence_bleu\n",
    "from rouge import Rouge\n",
    "from bleurt import score"
   ]
  },
  {
   "cell_type": "markdown",
   "metadata": {},
   "source": [
    "## Chargements Modèles & Tokenizers & Données"
   ]
  },
  {
   "cell_type": "code",
   "execution_count": null,
   "id": "2233dd04",
   "metadata": {},
   "outputs": [],
   "source": [
    "# Initialisation du modèle et du tokenizer pour t5-base\n",
    "model_name = \"t5-Large\"\n",
    "model = T5ForConditionalGeneration.from_pretrained(model_name)\n",
    "tokenizer = T5Tokenizer.from_pretrained(model_name)"
   ]
  },
  {
   "cell_type": "code",
   "execution_count": null,
   "metadata": {},
   "outputs": [],
   "source": [
    "file_path = 'data/dev_examples.json'\n",
    "with open(file_path, 'r') as file:\n",
    "    data = json.load(file)"
   ]
  },
  {
   "cell_type": "markdown",
   "metadata": {},
   "source": [
    "# Chargement des données"
   ]
  },
  {
   "cell_type": "code",
   "execution_count": null,
   "metadata": {},
   "outputs": [],
   "source": [
    "# Vérification de la disponibilité du GPU\n",
    "device = 'cuda' if torch.cuda.is_available() else 'cpu'"
   ]
  },
  {
   "cell_type": "markdown",
   "metadata": {},
   "source": [
    "# Formattage Données"
   ]
  },
  {
   "cell_type": "code",
   "execution_count": null,
   "id": "34d8bd93",
   "metadata": {},
   "outputs": [],
   "source": [
    "def format_data_for_t5(data):\n",
    "    formatted_data = []\n",
    "\n",
    "    for item in data:\n",
    "        text = item['text']\n",
    "        arguments = item['arguments']\n",
    "        \n",
    "        for key, values in arguments.items():\n",
    "            for value in values:\n",
    "                # Création de la question\n",
    "                question = f\"What is the {key} in the incident?\"\n",
    "                # Formatage de la paire question-réponse pour T5\n",
    "                input_text = f\"question: {question} context: {text}\"\n",
    "                target_text = value\n",
    "\n",
    "                formatted_data.append((input_text, target_text))\n",
    "    \n",
    "    return formatted_data\n",
    "\n",
    "# Formatage des données\n",
    "formatted_data = format_data_for_t5(data)"
   ]
  },
  {
   "cell_type": "markdown",
   "metadata": {},
   "source": [
    "# Création DataSet"
   ]
  },
  {
   "cell_type": "code",
   "execution_count": null,
   "metadata": {},
   "outputs": [],
   "source": [
    "class IncidentDataset(Dataset):\n",
    "    def __init__(self, tokenizer, formatted_data, max_token_length=512):\n",
    "        self.tokenizer = tokenizer\n",
    "        self.data = formatted_data\n",
    "        self.max_token_length = max_token_length\n",
    "\n",
    "    def __len__(self):\n",
    "        return len(self.data)\n",
    "\n",
    "    def __getitem__(self, idx):\n",
    "        input_text, target_text = self.data[idx]\n",
    "\n",
    "        input_encoding = self.tokenizer.encode_plus(\n",
    "            input_text,\n",
    "            max_length=self.max_token_length,\n",
    "            padding='max_length',\n",
    "            truncation=True,\n",
    "            return_attention_mask=True,\n",
    "            return_tensors='pt'\n",
    "        )\n",
    "        target_encoding = self.tokenizer.encode_plus(\n",
    "            target_text,\n",
    "            max_length=self.max_token_length,\n",
    "            padding='max_length',\n",
    "            truncation=True,\n",
    "            return_attention_mask=True,\n",
    "            return_tensors='pt'\n",
    "        )\n",
    "\n",
    "        return {\n",
    "            'input_ids': input_encoding['input_ids'].squeeze(0),\n",
    "            'attention_mask': input_encoding['attention_mask'].squeeze(0),\n",
    "            'labels': target_encoding['input_ids'].squeeze(0)\n",
    "        }\n",
    "\n",
    "# Division des données en ensembles d'entraînement et de validation\n",
    "train_data, val_data = train_test_split(formatted_data, test_size=0.2, random_state=42)"
   ]
  },
  {
   "cell_type": "code",
   "execution_count": null,
   "metadata": {},
   "outputs": [],
   "source": [
    "train_dataset = IncidentDataset(tokenizer, train_data, max_token_length=512)\n",
    "val_dataset = IncidentDataset(tokenizer, val_data, max_token_length=512)\n",
    "\n",
    "train_loader = DataLoader(train_dataset, batch_size=8, shuffle=True)\n",
    "val_loader = DataLoader(val_dataset, batch_size=8)"
   ]
  },
  {
   "cell_type": "code",
   "execution_count": null,
   "metadata": {},
   "outputs": [],
   "source": [
    "# Configuration de l'optimiseur\n",
    "optimizer = AdamW(model.parameters(), lr=5e-5)\n",
    "\n",
    "# Fonction de perte (la perte de cross-entropy est généralement utilisée pour T5)\n",
    "loss_fn = torch.nn.CrossEntropyLoss(ignore_index=tokenizer.pad_token_id)"
   ]
  },
  {
   "cell_type": "markdown",
   "metadata": {},
   "source": [
    "# Fonctions Annexes"
   ]
  },
  {
   "cell_type": "code",
   "execution_count": null,
   "metadata": {},
   "outputs": [],
   "source": [
    "def normalize_answer(s):\n",
    "    \"\"\"Mettre en minuscule et retirer la ponctuation, des déterminants and les espaces.\"\"\"\n",
    "    def remove_articles(text):\n",
    "        return re.sub(r'\\b(a|an|the)\\b', ' ', text)\n",
    "\n",
    "    def white_space_fix(text):\n",
    "        return ' '.join(text.split())\n",
    "\n",
    "    def remove_punc(text):\n",
    "        exclude = set(string.punctuation)\n",
    "        return ''.join(ch for ch in text if ch not in exclude)\n",
    "\n",
    "    def lower(text):\n",
    "        return text.lower()\n",
    "\n",
    "    return white_space_fix(remove_articles(remove_punc(lower(s))))"
   ]
  },
  {
   "cell_type": "code",
   "execution_count": null,
   "metadata": {},
   "outputs": [],
   "source": [
    "def f1_score(prediction, ground_truth):\n",
    "    \"\"\"Normalise les 2 textes, trouve ce qu'il y a en comment et estime précision, rappel et F1.\"\"\"\n",
    "    prediction_tokens = normalize_answer(prediction).split()\n",
    "    ground_truth_tokens = normalize_answer(ground_truth).split()\n",
    "    common = Counter(prediction_tokens) & Counter(ground_truth_tokens)\n",
    "    num_same = sum(common.values())\n",
    "    if len(ground_truth_tokens) == 0 or len(prediction_tokens) == 0:\n",
    "        return int(ground_truth_tokens == prediction_tokens)\n",
    "    if num_same == 0:\n",
    "        return 0\n",
    "    precision = 1.0 * num_same / len(prediction_tokens)\n",
    "    recall = 1.0 * num_same / len(ground_truth_tokens)\n",
    "    f1 = (2 * precision * recall) / (precision + recall)\n",
    "    return f1"
   ]
  },
  {
   "cell_type": "code",
   "execution_count": null,
   "metadata": {},
   "outputs": [],
   "source": [
    "def exact_match_score(prediction, ground_truth): \n",
    "    \"\"\"Vérifie si les 2 textes sont quasi-identiques.\"\"\"\n",
    "    return (normalize_answer(prediction) == normalize_answer(ground_truth))"
   ]
  },
  {
   "cell_type": "code",
   "execution_count": null,
   "metadata": {},
   "outputs": [],
   "source": [
    "def metric_max_over_ground_truths(metric_fn, prediction, ground_truths):\n",
    "    \"\"\"La fonction princiaple. Important de noter que ground_truths est une liste \n",
    "       parce qu'il peut y avoir plusieurs réponses possibles.\"\"\"\n",
    "    scores_for_ground_truths = []\n",
    "    for ground_truth in ground_truths:\n",
    "        score = metric_fn(prediction, ground_truth)\n",
    "        scores_for_ground_truths.append(score)\n",
    "    return max(scores_for_ground_truths)"
   ]
  },
  {
   "cell_type": "code",
   "execution_count": null,
   "metadata": {},
   "outputs": [],
   "source": [
    "def metric_max_over_ground_truths(metric_fn, prediction, ground_truths):\n",
    "    \"\"\"La fonction princiaple. Important de noter que ground_truths est une liste \n",
    "       parce qu'il peut y avoir plusieurs réponses possibles.\"\"\"\n",
    "    scores_for_ground_truths = []\n",
    "    for ground_truth in ground_truths:\n",
    "        score = metric_fn(prediction, ground_truth)\n",
    "        scores_for_ground_truths.append(score)\n",
    "    return max(scores_for_ground_truths)"
   ]
  },
  {
   "cell_type": "code",
   "execution_count": null,
   "metadata": {},
   "outputs": [],
   "source": [
    "def evaluate_model(model, val_loader, device):\n",
    "    model.eval()\n",
    "    total_f1, total_exact_match, total_count = 0, 0, 0\n",
    "\n",
    "    with torch.no_grad():\n",
    "        for batch in val_loader:\n",
    "            input_ids = batch['input_ids'].to(device)\n",
    "            attention_mask = batch['attention_mask'].to(device)\n",
    "            labels = batch['labels'].to(device)\n",
    "\n",
    "            outputs = model(input_ids=input_ids, attention_mask=attention_mask)\n",
    "            logits = outputs.logits\n",
    "            preds = torch.argmax(logits, dim=-1)\n",
    "\n",
    "            for pred, label in zip(preds, labels):\n",
    "                pred_text = tokenizer.decode(pred, skip_special_tokens=True)\n",
    "                label_text = tokenizer.decode(label, skip_special_tokens=True)\n",
    "                total_f1 += metric_max_over_ground_truths(f1_score, pred_text, [label_text])\n",
    "                total_exact_match += metric_max_over_ground_truths(exact_match_score, pred_text, [label_text])\n",
    "                total_count += 1\n",
    "\n",
    "    return total_f1 / total_count, total_exact_match / total_count"
   ]
  },
  {
   "cell_type": "markdown",
   "metadata": {},
   "source": [
    "# Entrainement Models"
   ]
  },
  {
   "cell_type": "code",
   "execution_count": null,
   "id": "ceb24f1d",
   "metadata": {},
   "outputs": [],
   "source": [
    "# Nombre d'epochs\n",
    "num_epochs = 15\n",
    "\n",
    "# Initialisation de la meilleure précision à 0 pour commencer\n",
    "best_val_accuracy = 0\n",
    "\n",
    "for epoch in range(num_epochs):\n",
    "    model.train()\n",
    "    total_loss = 0\n",
    "\n",
    "    for batch in tqdm(train_loader):\n",
    "        optimizer.zero_grad()\n",
    "\n",
    "        input_ids = batch['input_ids'].to(device)\n",
    "        attention_mask = batch['attention_mask'].to(device)\n",
    "        labels = batch['labels'].to(device)\n",
    "\n",
    "        outputs = model(input_ids=input_ids, attention_mask=attention_mask, labels=labels)\n",
    "        loss = outputs.loss\n",
    "        total_loss += loss.item()\n",
    "\n",
    "        loss.backward()\n",
    "        optimizer.step()\n",
    "        # Évaluation du modèle\n",
    "        val_accuracy = evaluate_model(model, val_loader, device)\n",
    "        print(f\"Validation Accuracy for Epoch {epoch + 1}: {val_accuracy}\")\n",
    "\n",
    "        # Sauvegarde du modèle si la précision est améliorée\n",
    "        if val_accuracy > best_val_accuracy:\n",
    "            best_val_accuracy = val_accuracy\n",
    "            # Remplacez 'best_model.pth' par votre chemin de fichier préféré\n",
    "            torch.save(model.state_dict(), 'best_model.pth')\n",
    "            print(f\"New best model saved with accuracy: {val_accuracy}\")\n",
    "    val_f1, val_exact_match = evaluate_model(model, val_loader, device)\n",
    "    print(f\"Validation F1 Score for Epoch {epoch + 1}: {val_f1}\")\n",
    "    print(f\"Validation Exact Match Score for Epoch {epoch + 1}: {val_exact_match}\")\n",
    "    print(f\"Epoch {epoch + 1} completed. Average loss: {total_loss / len(train_loader)}\")"
   ]
  },
  {
   "cell_type": "markdown",
   "metadata": {},
   "source": [
    "# Prompts Potentiels Exemple"
   ]
  },
  {
   "cell_type": "code",
   "execution_count": null,
   "id": "1a0b0d6b",
   "metadata": {},
   "outputs": [],
   "source": [
    "# Exemple de prompts\n",
    "prompts = [\n",
    "    \"Est-ce que la personne est morte ou non? {text}\",\n",
    "    \"Quelle était l'activité principale? {text}\"\n",
    "]\n",
    "\n",
    "for prompt in prompts:\n",
    "    formatted_data = [prompt.format(text=item[\"text\"]) for item in data]"
   ]
  },
  {
   "cell_type": "code",
   "execution_count": null,
   "id": "5982566e",
   "metadata": {},
   "outputs": [],
   "source": [
    "# Exemple de questions variées\n",
    "questions = [\n",
    "    \"Quelle est la cause de l'incident?\",\n",
    "    \"Qui a été blessé dans l'incident?\"\n",
    "]\n",
    "\n",
    "for question in questions:\n",
    "    input_texts = [f\"question: {question} context: {item['text']}\" for item in data]"
   ]
  },
  {
   "cell_type": "markdown",
   "metadata": {},
   "source": [
    "# Évaluation"
   ]
  },
  {
   "cell_type": "code",
   "execution_count": null,
   "id": "ae20e38f",
   "metadata": {},
   "outputs": [],
   "source": [
    "# Exemple d'évaluation\n",
    "references = [\"réponse de référence\"]\n",
    "candidates = [\"réponse du modèle\"]\n",
    "\n",
    "# BLEU\n",
    "bleu_score = sentence_bleu([references], candidates)\n",
    "\n",
    "# ROUGE\n",
    "rouge = Rouge()\n",
    "rouge_score = rouge.get_scores(candidates, references, avg=True)\n",
    "\n",
    "# BLEURT\n",
    "bleurt_scorer = score.BleurtScorer(\"chemin_vers_bleurt_checkpoint\")\n",
    "bleurt_score = bleurt_scorer.score(references=references, candidates=candidates)\n",
    "\n",
    "print(\"BLEU Score:\", bleu_score)\n",
    "print(\"ROUGE Score:\", rouge_score)\n",
    "print(\"BLEURT Score:\", bleurt_score)"
   ]
  },
  {
   "cell_type": "code",
   "execution_count": null,
   "id": "46fa5340",
   "metadata": {},
   "outputs": [],
   "source": []
  },
  {
   "cell_type": "code",
   "execution_count": null,
   "id": "ef3fdd2e",
   "metadata": {},
   "outputs": [],
   "source": []
  },
  {
   "cell_type": "code",
   "execution_count": null,
   "id": "1a19c165",
   "metadata": {},
   "outputs": [],
   "source": []
  }
 ],
 "metadata": {
  "kernelspec": {
   "display_name": "Python 3 (ipykernel)",
   "language": "python",
   "name": "python3"
  },
  "language_info": {
   "codemirror_mode": {
    "name": "ipython",
    "version": 3
   },
   "file_extension": ".py",
   "mimetype": "text/x-python",
   "name": "python",
   "nbconvert_exporter": "python",
   "pygments_lexer": "ipython3",
   "version": "3.10.11"
  }
 },
 "nbformat": 4,
 "nbformat_minor": 5
}
