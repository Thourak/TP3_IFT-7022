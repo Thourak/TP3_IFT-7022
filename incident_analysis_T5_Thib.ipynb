{
 "cells": [
  {
   "cell_type": "markdown",
   "id": "c65179fa",
   "metadata": {},
   "source": [
    "# *Notebook* à utiliser pour faire le travail pratique # 3 sur l'analyse d'incidents.\n",
    "\n",
    "\n",
    "\n"
   ]
  },
  {
   "cell_type": "markdown",
   "metadata": {},
   "source": [
    "## Imports"
   ]
  },
  {
   "cell_type": "code",
   "execution_count": null,
   "metadata": {},
   "outputs": [],
   "source": [
    "from transformers import T5Tokenizer, T5ForConditionalGeneration\n",
    "import json\n",
    "import torch\n",
    "from torch.utils.data import Dataset\n",
    "from collections import Counter\n",
    "import regex as re\n",
    "import string\n",
    "import numpy as np"
   ]
  },
  {
   "cell_type": "markdown",
   "metadata": {},
   "source": [
    "## Chargements Modèles et Tokenizers"
   ]
  },
  {
   "cell_type": "code",
   "execution_count": null,
   "id": "2233dd04",
   "metadata": {},
   "outputs": [],
   "source": [
    "# Charger les modèle / Tokenizer\n",
    "tokenizer = T5Tokenizer.from_pretrained('t5-large')\n",
    "model = T5ForConditionalGeneration.from_pretrained('t5-large')\n",
    "\n",
    "# Vérification de la disponibilité du GPU\n",
    "device = 'cuda' if torch.cuda.is_available() else 'cpu'\n",
    "print(f\"Device : {device}\")"
   ]
  },
  {
   "cell_type": "code",
   "execution_count": null,
   "id": "d8bfabe3",
   "metadata": {},
   "outputs": [],
   "source": [
    "#load data\n",
    "file_path = 'data/dev_examples.json'\n",
    "with open(file_path, 'r') as file:\n",
    "    data = json.load(file)"
   ]
  },
  {
   "cell_type": "code",
   "execution_count": null,
   "id": "d67ca057",
   "metadata": {},
   "outputs": [],
   "source": [
    "def create_input_data(data, prompt_type):\n",
    "    formatted_data = []\n",
    "\n",
    "    # Long (detailed) questions\n",
    "    long_questions = [\n",
    "        \"Could you elaborate on the unexpected event described in the incident report?\",\n",
    "        \"Please describe in detail the specific activity that was being carried out at the time of the incident.\",\n",
    "        \"Who exactly was involved in the incident, and could you provide more details about them?\",\n",
    "        \"Could you specify in detail the location where the incident occurred?\",\n",
    "        \"Please provide the exact date and time when the incident took place.\",\n",
    "        \"What were the underlying reasons and causes that led to the incident?\",\n",
    "        \"Which specific equipment was involved in the incident, and can you describe it?\",\n",
    "        \"What type of injury occurred, and can you provide more details about it?\"\n",
    "    ]\n",
    "\n",
    "    # Short (concise) questions\n",
    "    short_questions = [\n",
    "        \"What was the event in the report?\",\n",
    "        \"What activity was being performed during the incident?\",\n",
    "        \"Who was involved in the incident?\",\n",
    "        \"Where did the incident occur?\",\n",
    "        \"When did the incident happen?\",\n",
    "        \"What caused the incident?\",\n",
    "        \"What equipment was involved?\",\n",
    "        \"What type of injury occurred?\"\n",
    "    ]\n",
    "\n",
    "    questions = long_questions if prompt_type == \"long\" else short_questions\n",
    "    argument_keys = ['EVENT', 'ACTIVITY', 'WHO', 'WHERE', 'WHEN', 'CAUSE', 'EQUIPMENT', 'INJURY']\n",
    "\n",
    "    for item in data:\n",
    "        text = item['text']\n",
    "        arguments = item['arguments']\n",
    "\n",
    "        for arg_key, question in zip(argument_keys, questions):\n",
    "            input_text = f\"{question} Context: {text} <extra_id_0>\"\n",
    "            target_text = f\"{arguments.get(arg_key, 'Unknown')} <extra_id_1>\"\n",
    "            formatted_data.append((input_text, target_text))\n",
    "\n",
    "    return formatted_data\n",
    "\n",
    "# Create datasets for long and short questions\n",
    "dataset_long = create_input_data(data, \"long\")\n",
    "dataset_short = create_input_data(data, \"short\")"
   ]
  },
  {
   "cell_type": "markdown",
   "metadata": {},
   "source": [
    "# Fonction d'évaluation des modèles"
   ]
  },
  {
   "cell_type": "code",
   "execution_count": null,
   "id": "a80c8fc2",
   "metadata": {},
   "outputs": [],
   "source": [
    "#Calcule du score d'une modèle\n",
    "def normalize_answer(s):\n",
    "    \"\"\"Mettre en minuscule et retirer la ponctuation, des déterminants and les espaces.\"\"\"\n",
    "    def remove_articles(text):\n",
    "        return re.sub(r'\\b(a|an|the)\\b', ' ', text)\n",
    "\n",
    "    def white_space_fix(text):\n",
    "        return ' '.join(text.split())\n",
    "\n",
    "    def remove_punc(text):\n",
    "        exclude = set(string.punctuation)\n",
    "        return ''.join(ch for ch in text if ch not in exclude)\n",
    "\n",
    "    def lower(text):\n",
    "        return text.lower()\n",
    "\n",
    "    return white_space_fix(remove_articles(remove_punc(lower(s))))\n",
    "\n",
    "def f1_score(prediction, ground_truth):\n",
    "    \"\"\"Normalise les 2 textes, trouve ce qu'il y a en comment et estime précision, rappel et F1.\"\"\"\n",
    "    prediction_tokens = normalize_answer(prediction).split()\n",
    "    ground_truth_tokens = normalize_answer(ground_truth).split()\n",
    "    common = Counter(prediction_tokens) & Counter(ground_truth_tokens)\n",
    "    num_same = sum(common.values())\n",
    "    if len(ground_truth_tokens) == 0 or len(prediction_tokens) == 0:\n",
    "        return int(ground_truth_tokens == prediction_tokens)\n",
    "    if num_same == 0:\n",
    "        return 0\n",
    "    precision = 1.0 * num_same / len(prediction_tokens)\n",
    "    recall = 1.0 * num_same / len(ground_truth_tokens)\n",
    "    f1 = (2 * precision * recall) / (precision + recall)\n",
    "    return f1\n",
    "\n",
    "def exact_match_score(prediction, ground_truth): \n",
    "    \"\"\"Vérifie si les 2 textes sont quasi-identiques.\"\"\"\n",
    "    return (normalize_answer(prediction) == normalize_answer(ground_truth))\n",
    "\n",
    "def metric_max_over_ground_truths(metric_fn, prediction, ground_truths):\n",
    "    \"\"\"La fonction princiaple. Important de noter que ground_truths est une liste \n",
    "       parce qu'il peut y avoir plusieurs réponses possibles.\"\"\"\n",
    "    scores_for_ground_truths = []\n",
    "    for ground_truth in ground_truths:\n",
    "        score = metric_fn(prediction, ground_truth)\n",
    "        scores_for_ground_truths.append(score)\n",
    "    return max(scores_for_ground_truths)"
   ]
  },
  {
   "cell_type": "markdown",
   "id": "64348f5e",
   "metadata": {},
   "source": [
    "# Modèle Question-réponse"
   ]
  },
  {
   "cell_type": "code",
   "execution_count": null,
   "id": "5982566e",
   "metadata": {},
   "outputs": [],
   "source": [
    "def generate_answer(input_text):\n",
    "    input_ids = tokenizer.encode(input_text, return_tensors=\"pt\")\n",
    "    model_output = model.generate(input_ids)\n",
    "    answer = tokenizer.decode(model_output[0], skip_special_tokens=True)\n",
    "    return answer"
   ]
  },
  {
   "cell_type": "code",
   "execution_count": null,
   "id": "609a984e",
   "metadata": {},
   "outputs": [],
   "source": [
    "def evaluate_model(dataset, eval_fn):\n",
    "    total_score = 0\n",
    "    for item in dataset:\n",
    "        input_text, target_text = item\n",
    "        output = generate_answer(input_text)\n",
    "        score = metric_max_over_ground_truths(eval_fn, output, [target_text])\n",
    "        total_score += score\n",
    "        print(f\"Input: {input_text}\\nPredicted: {output}\\nTarget: {target_text}\\nScore: {score}\\n\")\n",
    "\n",
    "    average_score = total_score / len(dataset)\n",
    "    print(f\"Average Score: {average_score}\")"
   ]
  },
  {
   "cell_type": "code",
   "execution_count": null,
   "id": "46fa5340",
   "metadata": {},
   "outputs": [],
   "source": [
    "print(\"Evaluating Long Questions:\")\n",
    "evaluate_model(dataset_long, f1_score)\n",
    "\n",
    "print(\"\\nEvaluating Short Questions:\")\n",
    "evaluate_model(dataset_short, f1_score)"
   ]
  }
 ],
 "metadata": {
  "kernelspec": {
   "display_name": "Python 3 (ipykernel)",
   "language": "python",
   "name": "python3"
  },
  "language_info": {
   "codemirror_mode": {
    "name": "ipython",
    "version": 3
   },
   "file_extension": ".py",
   "mimetype": "text/x-python",
   "name": "python",
   "nbconvert_exporter": "python",
   "pygments_lexer": "ipython3",
   "version": "3.10.11"
  }
 },
 "nbformat": 4,
 "nbformat_minor": 5
}
