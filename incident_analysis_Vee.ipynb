{
 "cells": [
  {
   "cell_type": "markdown",
   "id": "c65179fa",
   "metadata": {},
   "source": [
    "# *Notebook* à utiliser pour faire le travail pratique # 3 sur l'analyse d'incidents.\n",
    "\n",
    "\n",
    "\n"
   ]
  },
  {
   "cell_type": "markdown",
   "metadata": {},
   "source": [
    "## Imports"
   ]
  },
  {
   "cell_type": "code",
   "execution_count": 1,
   "metadata": {},
   "outputs": [],
   "source": [
    "# Importation des bibliothèques \n",
    "from transformers import GPT2LMHeadModel, GPT2Tokenizer, AdamW\n",
    "import torch\n",
    "import json\n",
    "import re\n",
    "from torch.utils.data import Dataset, DataLoader\n",
    "import string\n",
    "from sklearn.model_selection import train_test_split\n",
    "from tqdm import tqdm\n",
    "from sklearn.metrics import accuracy_score\n",
    "from torch.nn.utils.rnn import pad_sequence\n",
    "from collections import Counter"
   ]
  },
  {
   "cell_type": "code",
   "execution_count": 2,
   "metadata": {},
   "outputs": [],
   "source": [
    "# Vérifiez si un GPU est disponible et utilisez-le, sinon utilisez le CPU\n",
    "device = torch.device(\"cuda\" if torch.cuda.is_available() else \"cpu\")"
   ]
  },
  {
   "cell_type": "markdown",
   "metadata": {},
   "source": [
    "## Chargements Modèles et Tokenizers"
   ]
  },
  {
   "cell_type": "code",
   "execution_count": 3,
   "metadata": {},
   "outputs": [],
   "source": [
    "with open('data/dev_examples.json', 'r') as file:\n",
    "  data = json.load(file)"
   ]
  },
  {
   "cell_type": "code",
   "execution_count": null,
   "id": "2233dd04",
   "metadata": {},
   "outputs": [],
   "source": [
    "# Charger le modèle GPT-2\n",
    "# Initialisation du modèle et du tokenizer pour GPT-2\n",
    "model_name = \"gpt2\"  # ou \"gpt2-medium\" selon les ressources disponibles\n",
    "model = GPT2LMHeadModel.from_pretrained(model_name)\n",
    "tokenizer = GPT2Tokenizer.from_pretrained(model_name)\n",
    "model.to(device)\n"
   ]
  },
  {
   "cell_type": "markdown",
   "id": "696d24fb",
   "metadata": {},
   "source": [
    "## création du dataset"
   ]
  },
  {
   "cell_type": "code",
   "execution_count": 5,
   "id": "34d8bd93",
   "metadata": {},
   "outputs": [],
   "source": [
    "# Formatage des données pour GPT-2\n",
    "def format_data_for_gpt2(data):\n",
    "    formatted_data = []\n",
    "\n",
    "    for item in data:\n",
    "        text = item['text']\n",
    "        arguments = item['arguments']\n",
    "\n",
    "        # Combinez le texte avec les arguments\n",
    "        full_text = f\"{text} {' '.join(str(arg) for arg in arguments.values())}\"\n",
    "\n",
    "        formatted_data.append(full_text)\n",
    "\n",
    "    return formatted_data\n",
    "    # Formatage des données\n",
    "formatted_data = format_data_for_gpt2(data)\n",
    "\n",
    "# Création du Dataset\n",
    "class IncidentDataset(Dataset):\n",
    "    def __init__(self, tokenizer, formatted_data, max_token_length=512):\n",
    "        self.tokenizer = tokenizer\n",
    "        self.data = formatted_data\n",
    "        self.max_token_length = max_token_length\n",
    "\n",
    "    def __len__(self):\n",
    "        return len(self.data)\n",
    "\n",
    "    def __getitem__(self, idx):\n",
    "        text = self.data[idx]\n",
    "\n",
    "        input_encoding = self.tokenizer.encode(\n",
    "            text,\n",
    "            max_length=self.max_token_length,\n",
    "            return_tensors='pt',\n",
    "            truncation=True  \n",
    "        )\n",
    "        \n",
    "\n",
    "        \n",
    "\n",
    "        return {\n",
    "            'input_ids': input_encoding.squeeze(0),\n",
    "            \n",
    "        }\n",
    "        \n",
    "        \n",
    "\n",
    "class Collator:\n",
    "    def __init__(self, tokenizer):\n",
    "        self.tokenizer = tokenizer\n",
    "\n",
    "    def __call__(self, batch):\n",
    "        input_ids = [item['input_ids'] for item in batch]\n",
    "\n",
    "        # pad_sequence pour rembourrer les séquences à la même longueur\n",
    "        input_ids = pad_sequence(input_ids, batch_first=True)\n",
    "\n",
    "        return {'input_ids': input_ids}\n",
    "\n",
    "# ...\n",
    "\n",
    "# Créez un objet Collator\n",
    "collator = Collator(tokenizer)\n",
    "\n",
    "#création du DataLoader\n",
    "train_data, val_data = train_test_split(formatted_data, test_size=0.2, random_state=42)\n",
    "train_dataset = IncidentDataset(tokenizer, train_data, max_token_length=512)\n",
    "val_dataset = IncidentDataset(tokenizer, val_data, max_token_length=512)\n",
    "\n",
    "train_loader = DataLoader(train_dataset, batch_size=8, shuffle=True, collate_fn=collator)\n",
    "val_loader = DataLoader(val_dataset, batch_size=8)\n",
    "\n",
    "# Configuration de l'optimiseur\n",
    "optimizer = torch.optim.AdamW(model.parameters(), lr=5e-5)"
   ]
  },
  {
   "cell_type": "code",
   "execution_count": null,
   "id": "ceb24f1d",
   "metadata": {},
   "outputs": [],
   "source": [
    "# Configuration de l'optimiseur pour GPT-2\n",
    "optimizer_gpt2 = AdamW(model.parameters(), lr=5e-5)\n",
    "\n",
    "# Fonction de perte pour \n",
    "loss_fn_gpt2 = torch.nn.CrossEntropyLoss(ignore_index=tokenizer.pad_token_id)"
   ]
  },
  {
   "cell_type": "markdown",
   "id": "d78abe16",
   "metadata": {},
   "source": [
    "## les fonctions d'évaluation"
   ]
  },
  {
   "cell_type": "code",
   "execution_count": 7,
   "metadata": {},
   "outputs": [],
   "source": [
    "\n",
    "def normalize_answer(s):\n",
    "    def remove_articles(text):\n",
    "        return re.sub(r'\\b(a|an|the)\\b', ' ', text)\n",
    "\n",
    "    def white_space_fix(text):\n",
    "        return ' '.join(text.split())\n",
    "\n",
    "    def remove_punc(text):\n",
    "        exclude = set(string.punctuation)\n",
    "        return ''.join(ch for ch in text if ch not in exclude)\n",
    "\n",
    "    def lower(text):\n",
    "        return text.lower()\n",
    "\n",
    "    return white_space_fix(remove_articles(remove_punc(lower(s))))\n",
    "\n",
    "def f1_score(prediction, ground_truth):\n",
    "    prediction_tokens = normalize_answer(prediction).split()\n",
    "    ground_truth_tokens = normalize_answer(ground_truth).split()\n",
    "    common = Counter(prediction_tokens) & Counter(ground_truth_tokens)\n",
    "    num_same = sum(common.values())\n",
    "    if len(ground_truth_tokens) == 0 or len(prediction_tokens) == 0:\n",
    "        return int(ground_truth_tokens == prediction_tokens)\n",
    "    if num_same == 0:\n",
    "        return 0\n",
    "    precision = 1.0 * num_same / len(prediction_tokens)\n",
    "    recall = 1.0 * num_same / len(ground_truth_tokens)\n",
    "    f1 = (2 * precision * recall) / (precision + recall)\n",
    "    return f1\n",
    "\n",
    "def exact_match_score(prediction, ground_truth):\n",
    "    return (normalize_answer(prediction) == normalize_answer(ground_truth))\n",
    "\n",
    "def metric_max_over_ground_truths(metric_fn, prediction, ground_truths):\n",
    "    scores_for_ground_truths = []\n",
    "    for ground_truth in ground_truths:\n",
    "        score = metric_fn(prediction, ground_truth)\n",
    "        scores_for_ground_truths.append(score)\n",
    "    return max(scores_for_ground_truths)\n",
    "\n",
    "# Fonction d'évaluation complète\n",
    "def evaluate_model(model, val_loader, device):\n",
    "    model.eval()\n",
    "    total_f1, total_exact_match, total_count = 0, 0, 0\n",
    "\n",
    "    with torch.no_grad():\n",
    "        for batch in val_loader:\n",
    "            input_ids = batch['input_ids'].to(device)\n",
    "            attention_mask = batch['attention_mask'].to(device)\n",
    "            labels = batch['labels'].to(device)\n",
    "\n",
    "            outputs = model(input_ids=input_ids, attention_mask=attention_mask)\n",
    "            logits = outputs.logits\n",
    "            preds = torch.argmax(logits, dim=-1)\n",
    "\n",
    "            for pred, label in zip(preds, labels):\n",
    "                pred_text = tokenizer.decode(pred, skip_special_tokens=True)\n",
    "                label_text = tokenizer.decode(label, skip_special_tokens=True)\n",
    "                total_f1 += metric_max_over_ground_truths(f1_score, pred_text, [label_text])\n",
    "                total_exact_match += metric_max_over_ground_truths(exact_match_score, pred_text, [label_text])\n",
    "                total_count += 1\n",
    "\n",
    "    return total_f1 / total_count, total_exact_match / total_count\n",
    "\n",
    "\n",
    "\n",
    "\n"
   ]
  },
  {
   "cell_type": "markdown",
   "id": "30db5dbf",
   "metadata": {},
   "source": [
    "## Entrainement"
   ]
  },
  {
   "cell_type": "code",
   "execution_count": null,
   "metadata": {},
   "outputs": [],
   "source": [
    "# Nombre d'epochs pour GPT-2\n",
    "num_epochs_gpt2 = 5\n",
    "\n",
    "# Initialisation f1 à 0\n",
    "best_val_f1= 0\n",
    "\n",
    "for epoch in range(num_epochs_gpt2):\n",
    "    model.train()\n",
    "    total_loss_gpt2 = 0\n",
    "\n",
    "    for batch in tqdm(train_loader):\n",
    "        optimizer.zero_grad()\n",
    "\n",
    "        input_ids_gpt2 = batch['input_ids'].to(device)\n",
    "        \n",
    "\n",
    "        outputs_gpt2 = model(input_ids=input_ids_gpt2) \n",
    "        loss_gpt2 = outputs_gpt2.loss\n",
    "        total_loss_gpt2 += loss_gpt2.item()\n",
    "\n",
    "        loss_gpt2.backward()\n",
    "        optimizer.step()\n",
    "\n",
    "    # Évaluation du modèle GPT-2\n",
    "    val_f1, val_exact_match = evaluate_model(model, val_loader, device)\n",
    "    print(f\"Validation F1 Score for Epoch {epoch + 1}: {val_f1}\")\n",
    "    print(f\"Validation Exact Match for Epoch {epoch + 1}: {val_exact_match}\")\n",
    "    print(f\"Training Loss for Epoch {epoch + 1}: {total_loss_gpt2 / len(train_loader)}\")\n",
    "\n",
    "    "
   ]
  },
  {
   "cell_type": "code",
   "execution_count": null,
   "metadata": {},
   "outputs": [],
   "source": []
  },
  {
   "cell_type": "code",
   "execution_count": null,
   "id": "46fa5340",
   "metadata": {},
   "outputs": [],
   "source": []
  },
  {
   "cell_type": "code",
   "execution_count": null,
   "id": "ef3fdd2e",
   "metadata": {},
   "outputs": [],
   "source": []
  },
  {
   "cell_type": "code",
   "execution_count": null,
   "id": "1a19c165",
   "metadata": {},
   "outputs": [],
   "source": []
  }
 ],
 "metadata": {
  "kernelspec": {
   "display_name": "Python 3 (ipykernel)",
   "language": "python",
   "name": "python3"
  },
  "language_info": {
   "codemirror_mode": {
    "name": "ipython",
    "version": 3
   },
   "file_extension": ".py",
   "mimetype": "text/x-python",
   "name": "python",
   "nbconvert_exporter": "python",
   "pygments_lexer": "ipython3",
   "version": "3.11.5"
  }
 },
 "nbformat": 4,
 "nbformat_minor": 5
}
